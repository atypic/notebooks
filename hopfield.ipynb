{
 "cells": [
  {
   "cell_type": "code",
   "execution_count": 1,
   "metadata": {},
   "outputs": [
    {
     "name": "stdout",
     "output_type": "stream",
     "text": [
      "Using matplotlib backend: TkAgg\n"
     ]
    }
   ],
   "source": [
    "%matplotlib\n",
    "import numpy as np\n",
    "import matplotlib.pyplot as plt"
   ]
  },
  {
   "cell_type": "code",
   "execution_count": 56,
   "metadata": {},
   "outputs": [],
   "source": [
    "N = 5\n",
    "\n",
    "W = np.zeros((N,N))\n",
    "np.fill_diagonal(W, 0)\n",
    "\n",
    "T = np.zeros((N))"
   ]
  },
  {
   "cell_type": "code",
   "execution_count": 71,
   "metadata": {},
   "outputs": [
    {
     "name": "stdout",
     "output_type": "stream",
     "text": [
      "s[-1. -1.  0.  0.  0.]\n",
      "s[-1. -1.  1. -1. -1.]\n",
      "s[-1. -1.  1. -1. -1.]\n",
      "s[-1. -1.  1. -1. -1.]\n",
      "s[-1. -1.  1. -1. -1.]\n"
     ]
    }
   ],
   "source": [
    "p = np.array([-1,-1, 1,-1,-1])\n",
    "\n",
    "#hebbian learning rule, aka \"wire together, fire together\"\n",
    "for (i,j), wi in np.ndenumerate(W):\n",
    "    if i == j:\n",
    "        continue\n",
    "    #if neighbors are same; weight between nodes is increased. (also for negative because -1*-1 = 1\n",
    "    #essentially you are coding that \"these two nodes have the same value\"\n",
    "    #with a weight.\n",
    "    W[(i,j)] += p[i] * p[j]  \n",
    "    W[(j,i)] += p[i] * p[j]  \n",
    "    \n",
    "init_state = p\n",
    "p[0] = 1\n",
    "p[1] = 1\n",
    "\n",
    "S = init_state\n",
    "for t in range(5):\n",
    "    #since the weights contain coding for similar patterns;\n",
    "    #if we present a noisy version of the learned pattern,\n",
    "    #there's a high chance that some of the state pattern are similar,\n",
    "    #and this will in turn drive the state space towards the learned pattern.\n",
    "    S = np.sign(np.dot(W, S) - T)    #(1,N) @ (N,N) = 1,N \n",
    "    print(f\"s{S}\")\n"
   ]
  },
  {
   "cell_type": "code",
   "execution_count": 62,
   "metadata": {},
   "outputs": [
    {
     "name": "stdout",
     "output_type": "stream",
     "text": [
      "[-1. -1.  1. -1. -1.]\n"
     ]
    }
   ],
   "source": [
    "print(S)"
   ]
  },
  {
   "cell_type": "code",
   "execution_count": null,
   "metadata": {},
   "outputs": [],
   "source": []
  }
 ],
 "metadata": {
  "kernelspec": {
   "display_name": "Python 3",
   "language": "python",
   "name": "python3"
  },
  "language_info": {
   "codemirror_mode": {
    "name": "ipython",
    "version": 3
   },
   "file_extension": ".py",
   "mimetype": "text/x-python",
   "name": "python",
   "nbconvert_exporter": "python",
   "pygments_lexer": "ipython3",
   "version": "3.7.3"
  }
 },
 "nbformat": 4,
 "nbformat_minor": 2
}
